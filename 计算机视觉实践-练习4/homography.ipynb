{
 "cells": [
  {
   "cell_type": "code",
   "execution_count": 55,
   "id": "12dcc694",
   "metadata": {},
   "outputs": [
    {
     "name": "stdout",
     "output_type": "stream",
     "text": [
      "Number of matches:  54\n",
      "H =\n",
      " [[ 4.53653175e+00  3.99846911e+00 -1.99116991e+03]\n",
      " [-2.01616687e+00  5.93008851e+00 -4.94648365e+02]\n",
      " [ 2.14974400e-03  5.18833626e-03  1.00000000e+00]]\n"
     ]
    }
   ],
   "source": [
    "import cv2 \n",
    "import numpy as np \n",
    "if __name__ == '__main__' :\n",
    "    data_path = 'image/book/'\n",
    "    # Read source image.\n",
    "    im1 = cv2.imread('./image/book/book1.jpg')\n",
    " \n",
    " \n",
    "    # Read destination image.\n",
    "    im2 = cv2.imread('./image/book/book2.jpg')\n",
    "\n",
    "    #SIFT算法计算特征点和描述符\n",
    "    sift = cv2.SIFT_create()\n",
    "    FLANN_INDEX_KDTREE = 1\n",
    "    index_params = dict(algorithm=FLANN_INDEX_KDTREE, trees=5)\n",
    "    search_params = dict(checks=50)\n",
    "    flann = cv.FlannBasedMatcher(index_params, search_params)\n",
    "\n",
    "    gray1 = cv.cvtColor(im1, cv.COLOR_BGR2GRAY)\n",
    "    kp1, ds1 = sift.detectAndCompute(gray1, None)\n",
    "    gray2 = cv.cvtColor(im2, cv.COLOR_BGR2GRAY)\n",
    "    kp2, ds2 = sift.detectAndCompute(gray2, None)\n",
    "    #Kp表示关键点，ds表示描述子\n",
    "    matches = flann.knnMatch(ds1, ds2, k=2)\n",
    " \n",
    "    good = []\n",
    "    for m, n in matches:\n",
    "        if m.distance < 0.6* n.distance:\n",
    "            good.append([m.queryIdx, m.trainIdx])\n",
    "            #queryIdx是指示特征点在图像1中的索引，而trainIdx是指示特征点在图像2中的索引\n",
    "       #.pt是KeyPoint类的一个属性，用于表示特征点的坐标。\n",
    "    srcpoints = np.float32([kp1[m[0]].pt for m in good])#im1平面中点的坐标列数组\n",
    "    dstpoints = np.float32([kp2[m[1]].pt for m in good])#im2平面中点的坐标列数组\n",
    "\n",
    "    print(\"Number of matches: \", srcpoints.shape[0])\n",
    "    \n",
    "    \n",
    "    \n",
    "    good2 = []\n",
    "    for m, n in matches:\n",
    "        if m.distance < 0.6* n.distance:\n",
    "            good2.append([m])\n",
    "    \n",
    "    im3 = cv2.drawMatchesKnn(im1,kp1,im2,kp2,good2,None,flags=2)\n",
    "    cv2.imshow(\"match\", im3)\n",
    "    cv2.imwrite(data_path+'Match Image.png',im3)\n",
    "    \n",
    "    \n",
    "    # Calculate Homography\n",
    "    h, status = cv2.findHomography(srcpoints,dstpoints)\n",
    "    print(\"H =\\n\", h)\n",
    "    # Warp source image to destination based on homography\n",
    "    im_out = cv2.warpPerspective(im1, h, (im2.shape[1],im2.shape[0]))\n",
    "    \n",
    "    # Display images\n",
    "    cv2.imwrite(data_path+'Source Image.png',im1)\n",
    "    cv2.imshow(\"Source Image\", im1)\n",
    "    cv2.imwrite(data_path+'Destination Image.png',im2)\n",
    "    cv2.imshow(\"Destination Image\", im2)\n",
    "    cv2.imwrite(data_path+'Warped Source Image.png',im_out)\n",
    "    cv2.imshow(\"Warped Source Image\", im_out)\n",
    " \n",
    "    cv2.waitKey(0)"
   ]
  },
  {
   "cell_type": "code",
   "execution_count": null,
   "id": "bde0d7b6",
   "metadata": {},
   "outputs": [],
   "source": []
  },
  {
   "cell_type": "code",
   "execution_count": null,
   "id": "226570c3",
   "metadata": {},
   "outputs": [],
   "source": []
  }
 ],
 "metadata": {
  "kernelspec": {
   "display_name": "Python 3 (ipykernel)",
   "language": "python",
   "name": "python3"
  },
  "language_info": {
   "codemirror_mode": {
    "name": "ipython",
    "version": 3
   },
   "file_extension": ".py",
   "mimetype": "text/x-python",
   "name": "python",
   "nbconvert_exporter": "python",
   "pygments_lexer": "ipython3",
   "version": "3.9.19"
  }
 },
 "nbformat": 4,
 "nbformat_minor": 5
}
