{
 "cells": [
  {
   "cell_type": "code",
   "execution_count": null,
   "id": "e71d0b90-edd0-40b1-ada8-f2d35730a127",
   "metadata": {},
   "outputs": [
    {
     "name": "stdout",
     "output_type": "stream",
     "text": [
      "Number of matches:  258\n",
      "Number of inliers:  251\n",
      "H =\n",
      " [[-5.25635250e-01 -7.97117401e-02  1.74075906e+02]\n",
      " [-3.57394756e-02 -4.48414040e-01  2.10095269e+01]\n",
      " [-2.76957414e-04  4.48486783e-05 -3.26968310e-01]]\n",
      "H normalize =\n",
      " [[ 1.60760304e+00  2.43790415e-01 -5.32393815e+02]\n",
      " [ 1.09305625e-01  1.37142966e+00 -6.42555447e+01]\n",
      " [ 8.47046656e-04 -1.37165214e-04  1.00000000e+00]]\n",
      "0 1293.5276218724016 -56.2437162782105 606.2307238425542 664 1295\n"
     ]
    },
    {
     "name": "stderr",
     "output_type": "stream",
     "text": [
      "D:\\computer version work\\1-image stitching\\python-Robust_Elastic_Warping-master\\mosaic_global.py:45: RuntimeWarning: invalid value encountered in cast\n",
      "  mosaic[:,:,kc] = (im1_p[:,:,kc]*warped_mask1 + im2_p[:,:,kc]*warped_mask2) / mass\n"
     ]
    },
    {
     "name": "stdout",
     "output_type": "stream",
     "text": [
      "0 488.7889951527265 -97.4 486\n",
      "Number of non-coincident points:  215\n"
     ]
    },
    {
     "name": "stderr",
     "output_type": "stream",
     "text": [
      "D:\\computer version work\\1-image stitching\\python-Robust_Elastic_Warping-master\\mosaic_local_ori.py:212: RuntimeWarning: invalid value encountered in cast\n",
      "  mosaic[:,:,kc] = (im1_p[:,:,kc]*warped_mask1 + im2_p[:,:,kc]*warped_mask2) / mass\n"
     ]
    }
   ],
   "source": [
    "import cv2 as cv\n",
    "from load_data import load_data\n",
    "from comp_KR import comp_KR\n",
    "from mosaic_global import mosaic_global\n",
    "from mosaic_local_ori import mosaic_local_ori\n",
    "import matplotlib.pyplot as plt\n",
    "\n",
    "data_path = 'images/B/'\n",
    "imfile1 = data_path + '1.jpg'\n",
    "imfile2 = data_path + '2.jpg'\n",
    "im1 = cv.imread(imfile1)\n",
    "im2 = cv.imread(imfile2)\n",
    "X1,X2 = load_data(im1,im2)#生成两行n列的数组，第一行为im中关键点坐标\n",
    "print(\"Number of matches: \", X1.shape[1])\n",
    "\n",
    "H, X1_ok, X2_ok,img3 = comp_KR(im1, im2, X1, X2)#用RANSAC方法计算全局单应性矩阵及内点\n",
    "cv.imwrite(data_path+'Ransac result.jpg', img3)\n",
    "print(\"H =\\n\", H)\n",
    "print(\"H normalize =\\n\", H/H[2,2])\n",
    "\n",
    "mosaic = mosaic_global(im1, im2, H)#求全局单应性拼接结果\n",
    "cv.imwrite(data_path+'mosaic_global.jpg', mosaic)\n",
    "cv.imshow(\"mosaic_global\", mosaic)\n",
    "cv.waitKey(1)\n",
    "\n",
    "mosaic = mosaic_local_ori(im1, im2, H, X1_ok, X2_ok) #用弹性局部对齐方法得到拼接结果，提升重叠区域对齐精度。   \n",
    "cv.imwrite(data_path+'mosaic_REW.jpg', mosaic)\n",
    "cv.imshow(\"mosaic_REW\", mosaic)\n",
    "cv.waitKey(0)"
   ]
  },
  {
   "cell_type": "code",
   "execution_count": null,
   "id": "550c7b96-81ec-4779-9871-23017afac41f",
   "metadata": {},
   "outputs": [],
   "source": []
  },
  {
   "cell_type": "code",
   "execution_count": null,
   "id": "37fbdd12-731a-48ef-81ea-7ba4f5eb1421",
   "metadata": {},
   "outputs": [],
   "source": []
  },
  {
   "cell_type": "code",
   "execution_count": null,
   "id": "8585de7a-152f-4618-923b-6bd19fe5bdf2",
   "metadata": {},
   "outputs": [],
   "source": []
  },
  {
   "cell_type": "code",
   "execution_count": null,
   "id": "2d7028a9-ab38-486b-a8bc-1bd3a0aefce1",
   "metadata": {},
   "outputs": [],
   "source": []
  }
 ],
 "metadata": {
  "kernelspec": {
   "display_name": "Python 3 (ipykernel)",
   "language": "python",
   "name": "python3"
  },
  "language_info": {
   "codemirror_mode": {
    "name": "ipython",
    "version": 3
   },
   "file_extension": ".py",
   "mimetype": "text/x-python",
   "name": "python",
   "nbconvert_exporter": "python",
   "pygments_lexer": "ipython3",
   "version": "3.11.7"
  }
 },
 "nbformat": 4,
 "nbformat_minor": 5
}
